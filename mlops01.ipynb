{
 "cells": [
  {
   "cell_type": "code",
   "execution_count": 24,
   "id": "7453b5d2",
   "metadata": {
    "tags": []
   },
   "outputs": [],
   "source": [
    "import pandas as pd\n",
    "import seaborn as sns\n",
    "import matplotlib.pyplot as plt\n",
    "import pickle"
   ]
  },
  {
   "cell_type": "code",
   "execution_count": 2,
   "id": "0a4ce016-3d5b-4682-81d3-39a8444fc7ee",
   "metadata": {
    "tags": []
   },
   "outputs": [],
   "source": [
    "from sklearn.feature_extraction import DictVectorizer\n",
    "from sklearn.linear_model import LinearRegression\n",
    "from sklearn.metrics import mean_squared_error"
   ]
  },
  {
   "cell_type": "markdown",
   "id": "37d07bc5-cbb7-4d3e-b6ce-a91e8afc4f44",
   "metadata": {},
   "source": [
    "## Q1. Downloading the data\n",
    "\n",
    "We'll use the same NYC taxi dataset, but instead of \"Green Taxi Trip Records\", we'll use \"Yellow Taxi Trip Records\".\n",
    "\n",
    "Download the data for January and February 2022.\n",
    "\n",
    "Read the data for January. How many columns are there?\n",
    "\n",
    "* 19"
   ]
  },
  {
   "cell_type": "code",
   "execution_count": 3,
   "id": "9491905b",
   "metadata": {
    "tags": []
   },
   "outputs": [
    {
     "data": {
      "text/plain": [
       "(2463931, 19)"
      ]
     },
     "execution_count": 3,
     "metadata": {},
     "output_type": "execute_result"
    }
   ],
   "source": [
    "df = pd.read_parquet('./data/yellow_tripdata_2022-01.parquet')\n",
    "df.shape"
   ]
  },
  {
   "cell_type": "markdown",
   "id": "021d448f",
   "metadata": {},
   "source": [
    "#### Q1. Answer: 19"
   ]
  },
  {
   "cell_type": "markdown",
   "id": "228f076b-572d-44c3-929e-29dc8b29628d",
   "metadata": {},
   "source": [
    "## Q2. Computing duration\n",
    "\n",
    "Now let's compute the duration variable. It should contain the duration of a ride in minutes.\n",
    "\n",
    "What's the standard deviation of the trips duration in January?\n",
    "\n",
    "* 46.45"
   ]
  },
  {
   "cell_type": "code",
   "execution_count": 4,
   "id": "dcda7b71",
   "metadata": {
    "tags": []
   },
   "outputs": [],
   "source": [
    "df['duration'] = df.tpep_dropoff_datetime - df.tpep_pickup_datetime\n",
    "df.duration = df.duration.apply(lambda td: td.total_seconds()/60)"
   ]
  },
  {
   "cell_type": "code",
   "execution_count": 5,
   "id": "b2279fdd",
   "metadata": {
    "tags": []
   },
   "outputs": [
    {
     "data": {
      "text/plain": [
       "count    2.463931e+06\n",
       "mean     1.421220e+01\n",
       "std      4.644531e+01\n",
       "min     -3.442400e+03\n",
       "25%      6.316667e+00\n",
       "50%      1.018333e+01\n",
       "75%      1.616667e+01\n",
       "max      8.513183e+03\n",
       "Name: duration, dtype: float64"
      ]
     },
     "execution_count": 5,
     "metadata": {},
     "output_type": "execute_result"
    }
   ],
   "source": [
    "df.duration.describe()"
   ]
  },
  {
   "cell_type": "markdown",
   "id": "97f7e89f",
   "metadata": {},
   "source": [
    "#### Q2. Answer: 46.45"
   ]
  },
  {
   "cell_type": "markdown",
   "id": "6534eaa5-83ca-4153-8d00-da39464f5152",
   "metadata": {
    "tags": []
   },
   "source": [
    "## Q3. Dropping outliers\n",
    "\n",
    "Next, we need to check the distribution of the duration variable. There are some outliers. Let's remove them and keep only the records where the duration was between 1 and 60 minutes (inclusive).\n",
    "\n",
    "What fraction of the records left after you dropped the outliers?\n",
    "\n",
    "* 98%"
   ]
  },
  {
   "cell_type": "code",
   "execution_count": 6,
   "id": "cf0414aa-66c8-49a3-aa02-affd4395ac7b",
   "metadata": {
    "tags": []
   },
   "outputs": [
    {
     "data": {
      "text/plain": [
       "0.9827547930522404"
      ]
     },
     "execution_count": 6,
     "metadata": {},
     "output_type": "execute_result"
    }
   ],
   "source": [
    "total = df.shape[0]\n",
    "df = df[(df.duration >= 1.0) & (df.duration <= 60.0)]\n",
    "dropped = df.shape[0]\n",
    "1 - (total-dropped)/total"
   ]
  },
  {
   "cell_type": "markdown",
   "id": "a28720c5",
   "metadata": {},
   "source": [
    "#### Q3. Answer: 98%"
   ]
  },
  {
   "cell_type": "markdown",
   "id": "9c891ea3-c2d8-471c-912e-d1f92e1bca17",
   "metadata": {},
   "source": [
    "## Q4. One-hot encoding\n",
    "\n",
    "Let's apply one-hot encoding to the pickup and dropoff location IDs. We'll use only these two features for our model.\n",
    "\n",
    "Turn the dataframe into a list of dictionaries\n",
    "Fit a dictionary vectorizer\n",
    "Get a feature matrix from it\n",
    "What's the dimensionality of this matrix (number of columns)?\n",
    "\n",
    "* 515"
   ]
  },
  {
   "cell_type": "code",
   "execution_count": 7,
   "id": "f6595782-8158-453a-9432-96453b884a63",
   "metadata": {
    "tags": []
   },
   "outputs": [],
   "source": [
    "categorical = ['PULocationID', 'DOLocationID']\n",
    "numerical = ['trip_distance']"
   ]
  },
  {
   "cell_type": "code",
   "execution_count": 8,
   "id": "865821ea-cefb-4891-b8a5-20dacf516355",
   "metadata": {
    "tags": []
   },
   "outputs": [],
   "source": [
    "df[categorical] = df[categorical].astype(str)"
   ]
  },
  {
   "cell_type": "code",
   "execution_count": 9,
   "id": "265308b9-21d7-4e5d-89e6-a968b954a0b1",
   "metadata": {
    "tags": []
   },
   "outputs": [],
   "source": [
    "train_dicts = df[categorical].to_dict(orient='records') # numerical"
   ]
  },
  {
   "cell_type": "code",
   "execution_count": 10,
   "id": "58fb1553-5724-4c9b-b01a-d2184ac796fa",
   "metadata": {
    "tags": []
   },
   "outputs": [],
   "source": [
    "dv = DictVectorizer()\n",
    "X_train = dv.fit_transform(train_dicts)"
   ]
  },
  {
   "cell_type": "code",
   "execution_count": 11,
   "id": "d84ba802-cc3c-48a8-b558-77d771217c8f",
   "metadata": {
    "tags": []
   },
   "outputs": [
    {
     "data": {
      "text/plain": [
       "(2421440, 515)"
      ]
     },
     "execution_count": 11,
     "metadata": {},
     "output_type": "execute_result"
    }
   ],
   "source": [
    "X_train.shape"
   ]
  },
  {
   "cell_type": "markdown",
   "id": "1a546f91",
   "metadata": {},
   "source": [
    "#### Q4. Answer: 515"
   ]
  },
  {
   "cell_type": "markdown",
   "id": "75e8b1d8-4c10-4788-81f0-00b2c1cdfbac",
   "metadata": {},
   "source": [
    "## Q5. Training a model\n",
    "\n",
    "Now let's use the feature matrix from the previous step to train a model.\n",
    "\n",
    "Train a plain linear regression model with default parameters\n",
    "Calculate the RMSE of the model on the training data\n",
    "What's the RMSE on train?\n",
    "\n",
    "* 6.99"
   ]
  },
  {
   "cell_type": "code",
   "execution_count": 12,
   "id": "3bfbfb93-9be1-41f7-aa2d-e71a683bed30",
   "metadata": {
    "tags": []
   },
   "outputs": [],
   "source": [
    "target = 'duration'\n",
    "y_train = df[target].values"
   ]
  },
  {
   "cell_type": "code",
   "execution_count": 13,
   "id": "68851561-552c-42ae-8a55-4ac41abbfe83",
   "metadata": {
    "tags": []
   },
   "outputs": [
    {
     "data": {
      "text/plain": [
       "LinearRegression()"
      ]
     },
     "execution_count": 13,
     "metadata": {},
     "output_type": "execute_result"
    }
   ],
   "source": [
    "lr = LinearRegression()\n",
    "lr.fit(X_train, y_train)"
   ]
  },
  {
   "cell_type": "code",
   "execution_count": 14,
   "id": "1455b4c6-1129-4887-bdd6-fa7dc616bfa8",
   "metadata": {
    "tags": []
   },
   "outputs": [],
   "source": [
    "y_pred = lr.predict(X_train)"
   ]
  },
  {
   "cell_type": "code",
   "execution_count": 15,
   "id": "a2e3ea57-acd5-47ce-a318-c1dcf8e7ee12",
   "metadata": {
    "tags": []
   },
   "outputs": [
    {
     "data": {
      "image/png": "[encoded data removed]",
      "text/plain": [
       "<Figure size 360x360 with 1 Axes>"
      ]
     },
     "metadata": {
      "needs_background": "light"
     },
     "output_type": "display_data"
    }
   ],
   "source": [
    "sns.displot(y_pred, label='prediction', kind='kde')\n",
    "plt.show()"
   ]
  },
  {
   "cell_type": "code",
   "execution_count": 16,
   "id": "9908cc66-2540-4097-9782-a2dbadc80c0b",
   "metadata": {
    "tags": []
   },
   "outputs": [
    {
     "data": {
      "image/png": "[encoded data removed]",
      "text/plain": [
       "<Figure size 360x360 with 1 Axes>"
      ]
     },
     "metadata": {
      "needs_background": "light"
     },
     "output_type": "display_data"
    }
   ],
   "source": [
    "sns.displot(y_train, label='actual', kind='kde')\n",
    "plt.show()"
   ]
  },
  {
   "cell_type": "code",
   "execution_count": 17,
   "id": "65b14020-85c4-494d-9b57-a5ce292dea9b",
   "metadata": {
    "tags": []
   },
   "outputs": [
    {
     "data": {
      "text/plain": [
       "6.986190743234152"
      ]
     },
     "execution_count": 17,
     "metadata": {},
     "output_type": "execute_result"
    }
   ],
   "source": [
    "mean_squared_error(y_train, y_pred, squared=False)"
   ]
  },
  {
   "cell_type": "markdown",
   "id": "b05d5bff",
   "metadata": {},
   "source": [
    "#### Q5. Answer: 6.99"
   ]
  },
  {
   "cell_type": "markdown",
   "id": "c8802ab4-a1c4-453c-b286-25ae32e32a7f",
   "metadata": {},
   "source": [
    "## Q6. Evaluating the model\n",
    "\n",
    "Now let's apply this model to the validation dataset (February 2022).\n",
    "\n",
    "What's the RMSE on validation?\n",
    "\n",
    "* 7.79"
   ]
  },
  {
   "cell_type": "code",
   "execution_count": 18,
   "id": "b5a6dcc6-d45a-4336-91d4-efeef150acd9",
   "metadata": {
    "tags": []
   },
   "outputs": [],
   "source": [
    "def read_dataframe(filename):\n",
    "    df = pd.read_parquet(filename)\n",
    "\n",
    "    df.tpep_pickup_datetime = pd.to_datetime(df.tpep_pickup_datetime)\n",
    "    df.tpep_dropoff_datetime = pd.to_datetime(df.tpep_dropoff_datetime)\n",
    "\n",
    "    df['duration'] = df.tpep_dropoff_datetime - df.tpep_pickup_datetime\n",
    "    df.duration = df.duration.apply(lambda td: td.total_seconds()/60)\n",
    "\n",
    "    df = df[(df.duration >= 1.0) & (df.duration <= 60.0)]\n",
    "\n",
    "    categorical = ['PULocationID', 'DOLocationID']\n",
    "\n",
    "    df[categorical] = df[categorical].astype(str)\n",
    "    \n",
    "    return df"
   ]
  },
  {
   "cell_type": "code",
   "execution_count": 19,
   "id": "6baf6ed2-ce4c-4317-9144-efb4b16e48b3",
   "metadata": {
    "tags": []
   },
   "outputs": [],
   "source": [
    "df_train = read_dataframe('./data/yellow_tripdata_2022-01.parquet')\n",
    "df_val = read_dataframe('./data/yellow_tripdata_2022-02.parquet')"
   ]
  },
  {
   "cell_type": "code",
   "execution_count": 20,
   "id": "030b66f1-5515-4dca-ab07-ab96de483219",
   "metadata": {
    "tags": []
   },
   "outputs": [
    {
     "data": {
      "text/plain": [
       "(2421440, 2918187)"
      ]
     },
     "execution_count": 20,
     "metadata": {},
     "output_type": "execute_result"
    }
   ],
   "source": [
    "len(df_train), len(df_val)"
   ]
  },
  {
   "cell_type": "code",
   "execution_count": 21,
   "id": "e5467155-f8eb-49b0-b749-f814ea1e2fe0",
   "metadata": {
    "tags": []
   },
   "outputs": [],
   "source": [
    "categorical = ['PULocationID', 'DOLocationID']\n",
    "numerical = ['trip_distance']\n",
    "\n",
    "dv = DictVectorizer()\n",
    "\n",
    "train_dicts = df_train[categorical].to_dict(orient='records') # numerical\n",
    "X_train = dv.fit_transform(train_dicts)\n",
    "\n",
    "val_dicts = df_val[categorical].to_dict(orient='records') # numerical\n",
    "X_val = dv.transform(val_dicts)"
   ]
  },
  {
   "cell_type": "code",
   "execution_count": 22,
   "id": "5347d867-f4ee-4c06-89e6-b7312e582b61",
   "metadata": {
    "tags": []
   },
   "outputs": [],
   "source": [
    "target = 'duration'\n",
    "y_train = df_train[target].values\n",
    "y_val = df_val[target].values"
   ]
  },
  {
   "cell_type": "code",
   "execution_count": 23,
   "id": "8391161e-9656-4053-9eaf-af1fe07cbef7",
   "metadata": {
    "tags": []
   },
   "outputs": [
    {
     "data": {
      "text/plain": [
       "7.786407350558637"
      ]
     },
     "execution_count": 23,
     "metadata": {},
     "output_type": "execute_result"
    }
   ],
   "source": [
    "lr = LinearRegression()\n",
    "lr.fit(X_train, y_train)\n",
    "\n",
    "y_pred = lr.predict(X_val)\n",
    "\n",
    "mean_squared_error(y_val, y_pred, squared=False)"
   ]
  },
  {
   "cell_type": "markdown",
   "id": "fe821b02",
   "metadata": {},
   "source": [
    "#### Q6. Answer: 7.79"
   ]
  },
  {
   "cell_type": "code",
   "execution_count": 25,
   "id": "35936ec5",
   "metadata": {},
   "outputs": [],
   "source": [
    "with open('./models/lin_reg.bin', 'wb') as f_out:\n",
    "    pickle.dump((dv, lr), f_out)"
   ]
  }
 ],
 "metadata": {
  "kernelspec": {
   "display_name": "Python 3",
   "language": "python",
   "name": "python3"
  },
  "language_info": {
   "codemirror_mode": {
    "name": "ipython",
    "version": 3
   },
   "file_extension": ".py",
   "mimetype": "text/x-python",
   "name": "python",
   "nbconvert_exporter": "python",
   "pygments_lexer": "ipython3",
   "version": "3.9.16"
  }
 },
 "nbformat": 4,
 "nbformat_minor": 5
}
