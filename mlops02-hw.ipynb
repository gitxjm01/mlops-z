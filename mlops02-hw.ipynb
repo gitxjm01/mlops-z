{
 "cells": [
  {
   "cell_type": "markdown",
   "id": "9779f99a-8cbd-4d38-91a6-4fd612251486",
   "metadata": {},
   "source": [
    "## Homework\n",
    "\n",
    "The goal of this homework is to get familiar with tools like MLflow for experiment tracking and \n",
    "model management.\n",
    "\n",
    "\n",
    "## Q1. Install the package\n",
    "\n",
    "To get started with MLflow you'll need to install the appropriate Python package.\n",
    "\n",
    "For this we recommend creating a separate Python environment, for example, you can use [conda environments](https://docs.conda.io/projects/conda/en/latest/user-guide/getting-started.html#managing-envs), \n",
    "and then install the package there with `pip` or `conda`.\n",
    "\n",
    "Once you installed the package, run the command `mlflow --version` and check the output.\n",
    "\n",
    "What's the version that you have?"
   ]
  },
  {
   "cell_type": "code",
   "execution_count": 1,
   "id": "fc980fe1-57c6-4293-bb01-6eccd3987ee4",
   "metadata": {
    "tags": []
   },
   "outputs": [
    {
     "name": "stdout",
     "output_type": "stream",
     "text": [
      "mlflow, version 2.3.2\n"
     ]
    }
   ],
   "source": [
    "!mlflow --version"
   ]
  },
  {
   "cell_type": "markdown",
   "id": "f17c145c-3721-4e08-9943-5ef011e2e8c5",
   "metadata": {},
   "source": [
    "## Q2. Download and preprocess the data\n",
    "\n",
    "We'll use the Green Taxi Trip Records dataset to predict the amount of tips for each trip. \n",
    "\n",
    "Download the data for January, February and March 2022 in parquet format from [here](https://www1.nyc.gov/site/tlc/about/tlc-trip-record-data.page).\n",
    "\n",
    "Use the script `preprocess_data.py` located in the folder [`homework`](homework) to preprocess the data.\n",
    "\n",
    "The script will:\n",
    "\n",
    "* load the data from the folder `<TAXI_DATA_FOLDER>` (the folder where you have downloaded the data),\n",
    "* fit a `DictVectorizer` on the training set (January 2022 data),\n",
    "* save the preprocessed datasets and the `DictVectorizer` to disk.\n",
    "\n",
    "Your task is to download the datasets and then execute this command:\n",
    "\n",
    "```\n",
    "python preprocess_data.py --raw_data_path <TAXI_DATA_FOLDER> --dest_path ./output\n",
    "```\n",
    "\n",
    "Tip: go to `02-experiment-tracking/homework/` folder before executing the command and change the value of `<TAXI_DATA_FOLDER>` to the location where you saved the data.\n",
    "\n",
    "So what's the size of the saved `DictVectorizer` file?\n",
    "\n",
    "* 154 kB"
   ]
  },
  {
   "cell_type": "code",
   "execution_count": 7,
   "id": "b5f35832-9e05-4c8e-8c01-5b9e657f768a",
   "metadata": {
    "tags": []
   },
   "outputs": [
    {
     "name": "stdout",
     "output_type": "stream",
     "text": [
      "--2023-05-29 12:19:26--  https://d37ci6vzurychx.cloudfront.net/trip-data/green_tripdata_2022-01.parquet\n",
      "Resolving d37ci6vzurychx.cloudfront.net (d37ci6vzurychx.cloudfront.net)... 65.8.245.50, 65.8.245.171, 65.8.245.51, ...\n",
      "Connecting to d37ci6vzurychx.cloudfront.net (d37ci6vzurychx.cloudfront.net)|65.8.245.50|:443... connected.\n",
      "HTTP request sent, awaiting response... 200 OK\n",
      "Length: 1254291 (1.2M) [binary/octet-stream]\n",
      "Saving to: ‘./data/green_tripdata_2022-01.parquet’\n",
      "\n",
      "green_tripdata_2022 100%[===================>]   1.20M   602KB/s    in 2.0s    \n",
      "\n",
      "2023-05-29 12:19:28 (602 KB/s) - ‘./data/green_tripdata_2022-01.parquet’ saved [1254291/1254291]\n",
      "\n",
      "--2023-05-29 12:19:29--  https://d37ci6vzurychx.cloudfront.net/trip-data/green_tripdata_2022-02.parquet\n",
      "Resolving d37ci6vzurychx.cloudfront.net (d37ci6vzurychx.cloudfront.net)... 65.8.245.178, 65.8.245.50, 65.8.245.171, ...\n",
      "Connecting to d37ci6vzurychx.cloudfront.net (d37ci6vzurychx.cloudfront.net)|65.8.245.178|:443... connected.\n",
      "HTTP request sent, awaiting response... 200 OK\n",
      "Length: 1428262 (1.4M) [binary/octet-stream]\n",
      "Saving to: ‘./data/green_tripdata_2022-02.parquet’\n",
      "\n",
      "green_tripdata_2022 100%[===================>]   1.36M  1.04MB/s    in 1.3s    \n",
      "\n",
      "2023-05-29 12:19:31 (1.04 MB/s) - ‘./data/green_tripdata_2022-02.parquet’ saved [1428262/1428262]\n",
      "\n",
      "--2023-05-29 12:19:31--  https://d37ci6vzurychx.cloudfront.net/trip-data/green_tripdata_2022-03.parquet\n",
      "Resolving d37ci6vzurychx.cloudfront.net (d37ci6vzurychx.cloudfront.net)... 65.8.245.51, 65.8.245.178, 65.8.245.50, ...\n",
      "Connecting to d37ci6vzurychx.cloudfront.net (d37ci6vzurychx.cloudfront.net)|65.8.245.51|:443... connected.\n",
      "HTTP request sent, awaiting response... 200 OK\n",
      "Length: 1615562 (1.5M) [binary/octet-stream]\n",
      "Saving to: ‘./data/green_tripdata_2022-03.parquet’\n",
      "\n",
      "green_tripdata_2022 100%[===================>]   1.54M   603KB/s    in 2.6s    \n",
      "\n",
      "2023-05-29 12:19:34 (603 KB/s) - ‘./data/green_tripdata_2022-03.parquet’ saved [1615562/1615562]\n",
      "\n"
     ]
    }
   ],
   "source": [
    "!wget https://d37ci6vzurychx.cloudfront.net/trip-data/green_tripdata_2022-01.parquet -P ./data\n",
    "!wget https://d37ci6vzurychx.cloudfront.net/trip-data/green_tripdata_2022-02.parquet -P ./data\n",
    "!wget https://d37ci6vzurychx.cloudfront.net/trip-data/green_tripdata_2022-03.parquet -P ./data"
   ]
  },
  {
   "cell_type": "code",
   "execution_count": 2,
   "id": "de065a01-6ea7-44ec-b531-d3e24a857769",
   "metadata": {
    "tags": []
   },
   "outputs": [],
   "source": [
    "!python ./scripts/preprocess_data.py --raw_data_path ./data --dest_path ./output"
   ]
  },
  {
   "cell_type": "code",
   "execution_count": 3,
   "id": "670b7d9f-413b-436f-933a-412a4bf02027",
   "metadata": {
    "tags": []
   },
   "outputs": [
    {
     "name": "stdout",
     "output_type": "stream",
     "text": [
      "-rw-r--r--  1 xjim xjim  153660 May 31 18:59 dv.pkl\n"
     ]
    }
   ],
   "source": [
    "!ls -la ./output/ | grep dv"
   ]
  },
  {
   "cell_type": "markdown",
   "id": "b7e3c91a-9389-44f9-8798-7ed0831e4a6e",
   "metadata": {},
   "source": [
    "## Q3. Train a model with autolog\n",
    "\n",
    "We will train a `RandomForestRegressor` (from Scikit-Learn) on the taxi dataset.\n",
    "\n",
    "We have prepared the training script `train.py` for this exercise, which can be also found in the folder `homework`. \n",
    "\n",
    "The script will:\n",
    "\n",
    "* load the datasets produced by the previous step,\n",
    "* train the model on the training set,\n",
    "* calculate the RMSE score on the validation set.\n",
    "\n",
    "Your task is to modify the script to enable **autologging** with MLflow, execute the script and then launch the MLflow UI to check that the experiment run was properly tracked. \n",
    "\n",
    "Tip 1: don't forget to wrap the training code with a `with mlflow.start_run():` statement as we showed in the videos.\n",
    "\n",
    "Tip 2: don't modify the hyperparameters of the model to make sure that the training will finish quickly.\n",
    "\n",
    "What is the value of the `max_depth` parameter:\n",
    "\n",
    "* 10\n",
    "\n",
    "\n",
    "## Launch the tracking server locally for MLflow\n",
    "\n",
    "Now we want to manage the entire lifecycle of our ML model. In this step, you'll need to launch a tracking server. This way we will also have access to the model registry. \n",
    "\n",
    "In case of MLflow, you need to:\n",
    "\n",
    "* launch the tracking server on your local machine,\n",
    "* select a SQLite db for the backend store and a folder called `artifacts` for the artifacts store.\n",
    "\n",
    "You should keep the tracking server running to work on the next three exercises that use the server."
   ]
  },
  {
   "cell_type": "code",
   "execution_count": 4,
   "id": "615685f9-a1a9-49da-8441-7d7ef698ac16",
   "metadata": {
    "tags": []
   },
   "outputs": [
    {
     "name": "stdout",
     "output_type": "stream",
     "text": [
      "2023/05/31 19:00:01 WARNING mlflow.utils.autologging_utils: MLflow autologging encountered a warning: \"/home/xjim/anaconda3/envs/py39/lib/python3.9/site-packages/_distutils_hack/__init__.py:33: UserWarning: Setuptools is replacing distutils.\"\n"
     ]
    }
   ],
   "source": [
    "!python ./scripts/train.py"
   ]
  },
  {
   "cell_type": "markdown",
   "id": "e0c5e7b0-accc-4f43-8e12-618c11d31c60",
   "metadata": {},
   "source": [
    "## Q4. Tune model hyperparameters\n",
    "\n",
    "Now let's try to reduce the validation error by tuning the hyperparameters of the `RandomForestRegressor` using `optuna`. \n",
    "We have prepared the script `hpo.py` for this exercise. \n",
    "\n",
    "Your task is to modify the script `hpo.py` and make sure that the validation RMSE is logged to the tracking server for each run of the hyperparameter optimization (you will need to add a few lines of code to the `objective` function) and run the script without passing any parameters.\n",
    "\n",
    "After that, open UI and explore the runs from the experiment called `random-forest-hyperopt` to answer the question below.\n",
    "\n",
    "Note: Don't use autologging for this exercise.\n",
    "\n",
    "The idea is to just log the information that you need to answer the question below, including:\n",
    "\n",
    "* the list of hyperparameters that are passed to the `objective` function during the optimization,\n",
    "* the RMSE obtained on the validation set (February 2022 data).\n",
    "\n",
    "What's the best validation RMSE that you got?\n",
    "\n",
    "* 2.45"
   ]
  },
  {
   "cell_type": "code",
   "execution_count": 5,
   "id": "64e4f6ea-d138-47b2-bc0c-079fb032832f",
   "metadata": {
    "tags": []
   },
   "outputs": [
    {
     "name": "stdout",
     "output_type": "stream",
     "text": [
      "\u001b[32m[I 2023-05-31 19:00:18,662]\u001b[0m A new study created in memory with name: no-name-c55692f7-ece4-4512-8690-f4d7a34711e4\u001b[0m\n",
      "\u001b[32m[I 2023-05-31 19:00:22,523]\u001b[0m Trial 0 finished with value: 2.451379690825458 and parameters: {'n_estimators': 25, 'max_depth': 20, 'min_samples_split': 8, 'min_samples_leaf': 3}. Best is trial 0 with value: 2.451379690825458.\u001b[0m\n",
      "\u001b[32m[I 2023-05-31 19:00:23,534]\u001b[0m Trial 1 finished with value: 2.4667366020368333 and parameters: {'n_estimators': 16, 'max_depth': 4, 'min_samples_split': 2, 'min_samples_leaf': 4}. Best is trial 0 with value: 2.451379690825458.\u001b[0m\n",
      "\u001b[32m[I 2023-05-31 19:00:27,200]\u001b[0m Trial 2 finished with value: 2.449827329704216 and parameters: {'n_estimators': 34, 'max_depth': 15, 'min_samples_split': 2, 'min_samples_leaf': 4}. Best is trial 2 with value: 2.449827329704216.\u001b[0m\n",
      "\u001b[32m[I 2023-05-31 19:00:29,911]\u001b[0m Trial 3 finished with value: 2.460983516558473 and parameters: {'n_estimators': 44, 'max_depth': 5, 'min_samples_split': 3, 'min_samples_leaf': 1}. Best is trial 2 with value: 2.449827329704216.\u001b[0m\n",
      "\u001b[32m[I 2023-05-31 19:00:31,900]\u001b[0m Trial 4 finished with value: 2.453877262701052 and parameters: {'n_estimators': 22, 'max_depth': 11, 'min_samples_split': 5, 'min_samples_leaf': 2}. Best is trial 2 with value: 2.449827329704216.\u001b[0m\n",
      "\u001b[32m[I 2023-05-31 19:00:33,057]\u001b[0m Trial 5 finished with value: 2.4720122094960733 and parameters: {'n_estimators': 35, 'max_depth': 3, 'min_samples_split': 4, 'min_samples_leaf': 2}. Best is trial 2 with value: 2.449827329704216.\u001b[0m\n",
      "\u001b[32m[I 2023-05-31 19:00:36,476]\u001b[0m Trial 6 finished with value: 2.4516421799356767 and parameters: {'n_estimators': 28, 'max_depth': 16, 'min_samples_split': 3, 'min_samples_leaf': 3}. Best is trial 2 with value: 2.449827329704216.\u001b[0m\n",
      "\u001b[32m[I 2023-05-31 19:00:37,400]\u001b[0m Trial 7 finished with value: 2.5374040268274087 and parameters: {'n_estimators': 34, 'max_depth': 1, 'min_samples_split': 7, 'min_samples_leaf': 1}. Best is trial 2 with value: 2.449827329704216.\u001b[0m\n",
      "\u001b[32m[I 2023-05-31 19:00:39,412]\u001b[0m Trial 8 finished with value: 2.455971238567075 and parameters: {'n_estimators': 12, 'max_depth': 19, 'min_samples_split': 10, 'min_samples_leaf': 4}. Best is trial 2 with value: 2.449827329704216.\u001b[0m\n",
      "\u001b[32m[I 2023-05-31 19:00:40,290]\u001b[0m Trial 9 finished with value: 2.486106021576535 and parameters: {'n_estimators': 22, 'max_depth': 2, 'min_samples_split': 8, 'min_samples_leaf': 2}. Best is trial 2 with value: 2.449827329704216.\u001b[0m\n"
     ]
    }
   ],
   "source": [
    "!python ./scripts/hpo.py"
   ]
  },
  {
   "cell_type": "markdown",
   "id": "1b09ca99-e046-471e-80cc-962ba1f927d5",
   "metadata": {},
   "source": [
    "## Q5. Promote the best model to the model registry\n",
    "\n",
    "The results from the hyperparameter optimization are quite good. So, we can assume that we are ready to test some of these models in production. \n",
    "In this exercise, you'll promote the best model to the model registry. We have prepared a script called `register_model.py`, which will check the results from the previous step and select the top 5 runs. \n",
    "After that, it will calculate the RMSE of those models on the test set (March 2022 data) and save the results to a new experiment called `random-forest-best-models`.\n",
    "\n",
    "Your task is to update the script `register_model.py` so that it selects the model with the lowest RMSE on the test set and registers it to the model registry.\n",
    "\n",
    "Tips for MLflow:\n",
    "\n",
    "* you can use the method `search_runs` from the `MlflowClient` to get the model with the lowest RMSE,\n",
    "* to register the model you can use the method `mlflow.register_model` and you will need to pass the right `model_uri` in the form of a string that looks like this: `\"runs:/<RUN_ID>/model\"`, and the name of the model (make sure to choose a good one!).\n",
    "\n",
    "What is the test RMSE of the best model?\n",
    "\n",
    "* 1.885\n",
    "* 2.185\n",
    "* 2.555\n",
    "* 2.955"
   ]
  },
  {
   "cell_type": "code",
   "execution_count": 8,
   "id": "9983444e-b180-408f-9b9f-7573f2e041d6",
   "metadata": {
    "tags": []
   },
   "outputs": [
    {
     "name": "stdout",
     "output_type": "stream",
     "text": [
      "2023/05/31 19:05:59 WARNING mlflow.utils.autologging_utils: MLflow autologging encountered a warning: \"/home/xjim/anaconda3/envs/py39/lib/python3.9/site-packages/_distutils_hack/__init__.py:33: UserWarning: Setuptools is replacing distutils.\"\n",
      "Successfully registered model 'a good one'.\n",
      "2023/05/31 19:06:25 INFO mlflow.tracking._model_registry.client: Waiting up to 300 seconds for model version to finish creation. Model name: a good one, version 1\n",
      "Created version '1' of model 'a good one'.\n"
     ]
    }
   ],
   "source": [
    "!python ./scripts/register_model.py"
   ]
  },
  {
   "cell_type": "markdown",
   "id": "087ebd73-e03e-4c84-9721-c3f386bfa742",
   "metadata": {},
   "source": [
    "## Q6. Model metadata\n",
    "\n",
    "Now explore your best model in the model registry using UI. What information does the model registry contain about each model?\n",
    "\n",
    "* Version number\n",
    "* Source experiment\n",
    "* Model signature\n",
    "* All the above answers are correct"
   ]
  },
  {
   "cell_type": "code",
   "execution_count": null,
   "id": "9eda6365-f674-4c13-b5bc-280728bffd89",
   "metadata": {},
   "outputs": [],
   "source": []
  },
  {
   "cell_type": "markdown",
   "id": "75a87793-ed97-4558-9cc8-351dae751775",
   "metadata": {},
   "source": [
    "## Submit the results\n",
    "\n",
    "* Submit your results here: https://forms.gle/Fy1pvrPEKd4yjz3s6\n",
    "* You can submit your solution multiple times. In this case, only the last submission will be used\n",
    "* If your answer doesn't match options exactly, select the closest one\n",
    "\n",
    "\n",
    "## Deadline\n",
    "\n",
    "The deadline for submitting is 1 June 2023 (Thursday), 23:00 CEST (Berlin time). \n",
    "\n",
    "After that, the form will be closed."
   ]
  },
  {
   "cell_type": "code",
   "execution_count": null,
   "id": "d8b13184-8ebb-4572-98a4-1d92d25fb61b",
   "metadata": {},
   "outputs": [],
   "source": []
  }
 ],
 "metadata": {
  "kernelspec": {
   "display_name": "Python 3",
   "language": "python",
   "name": "python3"
  },
  "language_info": {
   "codemirror_mode": {
    "name": "ipython",
    "version": 3
   },
   "file_extension": ".py",
   "mimetype": "text/x-python",
   "name": "python",
   "nbconvert_exporter": "python",
   "pygments_lexer": "ipython3",
   "version": "3.9.16"
  }
 },
 "nbformat": 4,
 "nbformat_minor": 5
}
